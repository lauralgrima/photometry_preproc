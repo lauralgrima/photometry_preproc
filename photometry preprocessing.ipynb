{
 "cells": [
  {
   "cell_type": "markdown",
   "metadata": {},
   "source": [
    "# photometry preprocessing \n",
    "\n",
    "This notebook contains allows exploration of different preprocessing options for photometry data. There are various different ways to preprocess this kind of data, so the idea behind this notebook is to act as an easy-to-use resource for trying various approaches out and visualising the results.\n",
    "\n",
    "The contents of this notebook are heavily inspired by Thomas Akam's code [here](https://github.com/ThomasAkam/photometry_preprocessing/blob/master/Photometry%20data%20preprocessing.ipynb) as well as discussions with Marta Blanco Pozo and Luke Coddington. However, if you come across any errors or have any questions please message me at grimal@janelia.hhmi.org.\n",
    "\n",
    "The main steps for the preprocessing are as follows: \n",
    "1. \n",
    "\n",
    "The data used in this notebook were recorded from the NACc core of a mouse during a freely moving reward-based task. [pyPhotometry](https://pyphotometry.readthedocs.io/en/latest/) acquisition hardware and software was used in two colour time division mode, with GCaMP8m as the calcium indicator and tdTomato as movement control. \n",
    "\n",
    "\n",
    "Start by importing python modules needed and setting up figure parameters."
   ]
  },
  {
   "cell_type": "code",
   "execution_count": 4,
   "metadata": {},
   "outputs": [],
   "source": [
    "import os\n",
    "import numpy as  np\n",
    "import pylab as plt\n",
    "from scipy.signal import medfilt, butter, filtfilt\n",
    "from scipy.stats import linregress\n",
    "from scipy.optimize import curve_fit, minimize\n",
    "\n",
    "plt.rcParams['figure.figsize'] = [14, 12] # Make default figure size larger.\n",
    "plt.rcParams['axes.xmargin'] = 0          # Make default margin on x axis zero."
   ]
  },
  {
   "cell_type": "markdown",
   "metadata": {},
   "source": [
    "Import the pyPhotometry data import module."
   ]
  },
  {
   "cell_type": "code",
   "execution_count": null,
   "metadata": {},
   "outputs": [],
   "source": [
    "from import_photometry import import_ppd"
   ]
  },
  {
   "cell_type": "markdown",
   "metadata": {},
   "source": []
  }
 ],
 "metadata": {
  "kernelspec": {
   "display_name": "Python 3",
   "language": "python",
   "name": "python3"
  },
  "language_info": {
   "codemirror_mode": {
    "name": "ipython",
    "version": 3
   },
   "file_extension": ".py",
   "mimetype": "text/x-python",
   "name": "python",
   "nbconvert_exporter": "python",
   "pygments_lexer": "ipython3",
   "version": "3.7.6"
  }
 },
 "nbformat": 4,
 "nbformat_minor": 4
}
